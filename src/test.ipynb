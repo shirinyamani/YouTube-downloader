{
 "cells": [
  {
   "cell_type": "code",
   "execution_count": 1,
   "metadata": {},
   "outputs": [],
   "source": [
    "import pytube\n",
    "from pytube import YouTube\n",
    "from pathlib import Path\n",
    "from tqdm import tqdm"
   ]
  },
  {
   "cell_type": "code",
   "execution_count": 2,
   "metadata": {},
   "outputs": [],
   "source": [
    "class YouTubeDownloader:\n",
    "    def __init__(self, url, output_save_path= None, quality=None):\n",
    "        self.url = url\n",
    "        self.output_save_path = output_save_path or Path.cwd()\n",
    "        self.quality = quality or 'highest'\n",
    "        self.yt = YouTube(\n",
    "            self.url, \n",
    "            on_progress_callback=self.on_progress,\n",
    "            on_complete_callback=self.complete)\n",
    "        \n",
    "\n",
    "    def download(self):\n",
    "        if self.quality == 'highest':\n",
    "            stream = self.yt.streams.filter(\n",
    "                progressive=True, \n",
    "                file_extension='mp4'\n",
    "                ).get_highest_resolution()\n",
    "        else:\n",
    "            stream = self.yt.streams.filter(\n",
    "                progressive=True, \n",
    "                file_extension='mp4', \n",
    "                res=self.quality).first()\n",
    "            \n",
    "        self.pbar = tqdm(desc='Downloading...', \n",
    "                         total = stream.filesize,\n",
    "                         unit= 'B',\n",
    "                         unit_scale= True)\n",
    "\n",
    "        \n",
    "        stream.download(self.output_save_path)\n",
    "\n",
    "    def on_progress(self,stream, chunk, byte_remaining):\n",
    "        current = stream.filesize - byte_remaining\n",
    "        self.pbar.update(current - self.pbar.n)\n",
    "\n",
    "\n",
    "    def complete(self, stream, filepath):\n",
    "        print()\n",
    "        print(f'Download completed and saved in {filepath}')\n",
    "        \n",
    "        \n"
   ]
  },
  {
   "cell_type": "code",
   "execution_count": 3,
   "metadata": {},
   "outputs": [
    {
     "name": "stderr",
     "output_type": "stream",
     "text": [
      "Downloading...: 100%|██████████| 298M/298M [00:14<00:00, 19.2MB/s] "
     ]
    },
    {
     "name": "stdout",
     "output_type": "stream",
     "text": [
      "\n",
      "Download completed and saved in /home/shirin/Desktop/personal/projects/YouTube-downloader/src/Jeff Bezos Amazon and Blue Origin  Lex Fridman Podcast 405.mp4\n"
     ]
    },
    {
     "name": "stderr",
     "output_type": "stream",
     "text": [
      "Downloading...: 100%|██████████| 298M/298M [00:29<00:00, 19.2MB/s]"
     ]
    }
   ],
   "source": [
    "yt = YouTubeDownloader('https://www.youtube.com/watch?v=DcWqzZ3I2cY'\n",
    ").download()"
   ]
  },
  {
   "cell_type": "code",
   "execution_count": null,
   "metadata": {},
   "outputs": [],
   "source": []
  },
  {
   "cell_type": "code",
   "execution_count": null,
   "metadata": {},
   "outputs": [],
   "source": []
  }
 ],
 "metadata": {
  "kernelspec": {
   "display_name": "ali-ml",
   "language": "python",
   "name": "python3"
  },
  "language_info": {
   "codemirror_mode": {
    "name": "ipython",
    "version": 3
   },
   "file_extension": ".py",
   "mimetype": "text/x-python",
   "name": "python",
   "nbconvert_exporter": "python",
   "pygments_lexer": "ipython3",
   "version": "3.10.12"
  }
 },
 "nbformat": 4,
 "nbformat_minor": 2
}
