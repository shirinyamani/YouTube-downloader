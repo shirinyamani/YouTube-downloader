{
 "cells": [
  {
   "cell_type": "code",
   "execution_count": null,
   "metadata": {},
   "outputs": [],
   "source": []
  },
  {
   "cell_type": "code",
   "execution_count": 6,
   "metadata": {},
   "outputs": [],
   "source": [
    "import pytube\n",
    "from pytube import YouTube\n",
    "from pathlib import Path"
   ]
  },
  {
   "cell_type": "code",
   "execution_count": 73,
   "metadata": {},
   "outputs": [],
   "source": [
    "class YouTubeDownloader:\n",
    "    def __init__(self, url, output_save_path= None, quality=None):\n",
    "        self.url = url\n",
    "        self.output_save_path = output_save_path or Path.cwd()\n",
    "        self.quality = quality or 'highest'\n",
    "        self.yt = YouTube(\n",
    "            self.url, \n",
    "            on_progress_callback=self.on_progress,\n",
    "            on_complete_callback=self.complete)\n",
    "\n",
    "\n",
    "    def download(self):\n",
    "        if self.quality == 'highest':\n",
    "            stream = self.yt.streams.filter(\n",
    "                progressive=True, \n",
    "                file_extension='mp4'\n",
    "                ).get_highest_resolution()\n",
    "        else:\n",
    "            stream = self.yt.streams.filter(\n",
    "                progressive=True, \n",
    "                file_extension='mp4', \n",
    "                res=self.quality).first()\n",
    "        \n",
    "        stream.download(self.output_save_path)\n",
    "\n",
    "    def on_progress(self,stream, chunk, byte_remaining):\n",
    "        total_size = stream.filesize\n",
    "        byte_downloaded = total_size - byte_remaining\n",
    "        print(f'downloading...{byte_downloaded/total_size*100:.2f} % of {stream.title}')\n",
    "\n",
    "    def complete(self, stream, filepath):\n",
    "        total_size = stream.filesize / 1024 /1024\n",
    "        print()\n",
    "        print(f'TotalSize of {total_size:.2f} MB download completed. file saved to: {filepath}')\n",
    "\n",
    "\n",
    "        \n"
   ]
  },
  {
   "cell_type": "code",
   "execution_count": 74,
   "metadata": {},
   "outputs": [],
   "source": [
    "yt = YouTubeDownloader('https://www.youtube.com/watch?v=mRXKnG2eugU&list=RDmRXKnG2eugU&index=1')"
   ]
  },
  {
   "cell_type": "code",
   "execution_count": 75,
   "metadata": {},
   "outputs": [
    {
     "name": "stdout",
     "output_type": "stream",
     "text": [
      "downloading...49.17 % of Numb (Official Video)\n",
      "downloading...98.34 % of Numb (Official Video)\n",
      "downloading...100.00 % of Numb (Official Video)\n",
      "\n",
      "TotalSize of 18.30 MB download completed. file saved to: /home/shirin/Desktop/personal/projects/YouTube-downloader/src/Numb (Official Video).mp4\n"
     ]
    }
   ],
   "source": [
    "yt.download()"
   ]
  },
  {
   "cell_type": "code",
   "execution_count": null,
   "metadata": {},
   "outputs": [],
   "source": []
  },
  {
   "cell_type": "code",
   "execution_count": null,
   "metadata": {},
   "outputs": [],
   "source": []
  }
 ],
 "metadata": {
  "kernelspec": {
   "display_name": "ali-ml",
   "language": "python",
   "name": "python3"
  },
  "language_info": {
   "codemirror_mode": {
    "name": "ipython",
    "version": 3
   },
   "file_extension": ".py",
   "mimetype": "text/x-python",
   "name": "python",
   "nbconvert_exporter": "python",
   "pygments_lexer": "ipython3",
   "version": "3.10.12"
  }
 },
 "nbformat": 4,
 "nbformat_minor": 2
}
