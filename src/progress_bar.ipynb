{
 "cells": [
  {
   "cell_type": "code",
   "execution_count": 4,
   "metadata": {},
   "outputs": [],
   "source": [
    "from tqdm import tqdm\n",
    "import time"
   ]
  },
  {
   "cell_type": "code",
   "execution_count": 8,
   "metadata": {},
   "outputs": [
    {
     "name": "stderr",
     "output_type": "stream",
     "text": [
      "Sia: 100%|██████████| 6/6 [00:06<00:00,  1.00s/it]   \n"
     ]
    }
   ],
   "source": [
    "names = [\n",
    "    'Sihrin',\n",
    "    'Noosh',\n",
    "    'Tahid',\n",
    "    'Ali',\n",
    "    'Alex',\n",
    "    'Sia'\n",
    "]\n",
    "\n",
    "pbar = tqdm(names)\n",
    "for name in pbar: #tqdm on iterable\n",
    "    time.sleep(1)\n",
    "    pbar.set_description(name)"
   ]
  },
  {
   "cell_type": "code",
   "execution_count": null,
   "metadata": {},
   "outputs": [],
   "source": []
  }
 ],
 "metadata": {
  "kernelspec": {
   "display_name": "ali-ml",
   "language": "python",
   "name": "python3"
  },
  "language_info": {
   "codemirror_mode": {
    "name": "ipython",
    "version": 3
   },
   "file_extension": ".py",
   "mimetype": "text/x-python",
   "name": "python",
   "nbconvert_exporter": "python",
   "pygments_lexer": "ipython3",
   "version": "3.10.12"
  }
 },
 "nbformat": 4,
 "nbformat_minor": 2
}
